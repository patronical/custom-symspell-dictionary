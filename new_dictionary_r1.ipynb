{
 "cells": [
  {
   "cell_type": "markdown",
   "metadata": {},
   "source": [
    "### Custom Frequency Dictionary"
   ]
  },
  {
   "cell_type": "markdown",
   "metadata": {},
   "source": [
    "1) Import dependencies"
   ]
  },
  {
   "cell_type": "code",
   "execution_count": 1,
   "metadata": {},
   "outputs": [],
   "source": [
    "import os\n",
    "import regex as re\n",
    "import math\n",
    "import string\n",
    "from collections import Counter\n",
    "import pandas as pd\n",
    "import numpy as np\n",
    "import nltk\n",
    "import PyPDF2"
   ]
  },
  {
   "cell_type": "markdown",
   "metadata": {},
   "source": [
    "2) Import Standard English Frequency Dictionary"
   ]
  },
  {
   "cell_type": "code",
   "execution_count": 2,
   "metadata": {},
   "outputs": [],
   "source": [
    "# SymSpell frequency dictionary\n",
    "with open('frequency_dictionary_en_82_765.txt', 'r') as myfile:\n",
    "    DICT=myfile.read().replace('\\n', '')\n",
    "\n",
    "#add space between numbers and characters\n",
    "DICT2 = re.sub(r'(\\d+)(\\w+)', r'\\1 \\2', DICT.lower())\n",
    "\n",
    "#get list of word and count tuples\n",
    "d_tup = re.findall(r'(\\w+)\\s(\\d+)', DICT2)\n",
    "\n",
    "#assign counter\n",
    "C = Counter()\n",
    "for pair in d_tup:\n",
    "    C[pair[0]] = int(pair[1])"
   ]
  },
  {
   "cell_type": "markdown",
   "metadata": {},
   "source": [
    "3) Import English Book with Special Words"
   ]
  },
  {
   "cell_type": "code",
   "execution_count": 3,
   "metadata": {},
   "outputs": [
    {
     "name": "stderr",
     "output_type": "stream",
     "text": [
      "PdfReadWarning: Xref table not zero-indexed. ID numbers for objects will be corrected. [pdf.py:1736]\n"
     ]
    },
    {
     "data": {
      "text/html": [
       "<div>\n",
       "<style scoped>\n",
       "    .dataframe tbody tr th:only-of-type {\n",
       "        vertical-align: middle;\n",
       "    }\n",
       "\n",
       "    .dataframe tbody tr th {\n",
       "        vertical-align: top;\n",
       "    }\n",
       "\n",
       "    .dataframe thead th {\n",
       "        text-align: right;\n",
       "    }\n",
       "</style>\n",
       "<table border=\"1\" class=\"dataframe\">\n",
       "  <thead>\n",
       "    <tr style=\"text-align: right;\">\n",
       "      <th></th>\n",
       "      <th>page</th>\n",
       "      <th>text</th>\n",
       "    </tr>\n",
       "  </thead>\n",
       "  <tbody>\n",
       "    <tr>\n",
       "      <th>0</th>\n",
       "      <td>0</td>\n",
       "      <td>TThhee  BBhhaaggaavvaadd GGiittaa  Translation...</td>\n",
       "    </tr>\n",
       "    <tr>\n",
       "      <th>1</th>\n",
       "      <td>1</td>\n",
       "      <td>A NOTE ABOUT THE TRANSLATOR  Shri Purohit Swam...</td>\n",
       "    </tr>\n",
       "    <tr>\n",
       "      <th>2</th>\n",
       "      <td>2</td>\n",
       "      <td>CONTENTS ONE:  THE DESPONDENCY OF ARJUNA.........</td>\n",
       "    </tr>\n",
       "    <tr>\n",
       "      <th>3</th>\n",
       "      <td>3</td>\n",
       "      <td>PREFACE The Bhagavad Gita , the greatest dev...</td>\n",
       "    </tr>\n",
       "    <tr>\n",
       "      <th>4</th>\n",
       "      <td>4</td>\n",
       "      <td>1 1 ONE:  THE DESPONDENCY OF ARJUNA  The King ...</td>\n",
       "    </tr>\n",
       "  </tbody>\n",
       "</table>\n",
       "</div>"
      ],
      "text/plain": [
       "   page                                               text\n",
       "0     0  TThhee  BBhhaaggaavvaadd GGiittaa  Translation...\n",
       "1     1  A NOTE ABOUT THE TRANSLATOR  Shri Purohit Swam...\n",
       "2     2  CONTENTS ONE:  THE DESPONDENCY OF ARJUNA.........\n",
       "3     3    PREFACE The Bhagavad Gita , the greatest dev...\n",
       "4     4  1 1 ONE:  THE DESPONDENCY OF ARJUNA  The King ..."
      ]
     },
     "execution_count": 3,
     "metadata": {},
     "output_type": "execute_result"
    }
   ],
   "source": [
    "# creating a pdf file object \n",
    "pdfFileObj = open('The-Bhagavad-Gita-Translation-by-Shri-Purohit-Swami.pdf', 'rb') \n",
    "  \n",
    "# creating a pdf reader object \n",
    "pdfReader = PyPDF2.PdfFileReader(pdfFileObj) \n",
    "\n",
    "# calculate page quantity\n",
    "num_pages = pdfReader.numPages\n",
    "\n",
    "# build dataframe\n",
    "page_list = []\n",
    "text_list = []\n",
    "for i in range(num_pages):\n",
    "    pageObj = pdfReader.getPage(i)\n",
    "    page_list.append(i)\n",
    "    text = re.sub(r\"\\n\", \" \", pageObj.extractText())\n",
    "    text = re.sub(r\"ﬂ\",\" \", text)\n",
    "    text_list.append(text)\n",
    "    \n",
    "# closing the pdf file object \n",
    "pdfFileObj.close()    \n",
    "\n",
    "# write to dataframe    \n",
    "data = pd.DataFrame.from_dict({'page':page_list, 'text':text_list})\n",
    "data.head()"
   ]
  },
  {
   "cell_type": "code",
   "execution_count": 4,
   "metadata": {},
   "outputs": [
    {
     "name": "stdout",
     "output_type": "stream",
     "text": [
      "<class 'pandas.core.frame.DataFrame'>\n",
      "RangeIndex: 55 entries, 0 to 54\n",
      "Data columns (total 2 columns):\n",
      "page    55 non-null int64\n",
      "text    55 non-null object\n",
      "dtypes: int64(1), object(1)\n",
      "memory usage: 960.0+ bytes\n"
     ]
    }
   ],
   "source": [
    "data.info()"
   ]
  },
  {
   "cell_type": "code",
   "execution_count": 5,
   "metadata": {},
   "outputs": [
    {
     "data": {
      "text/plain": [
       "'  PREFACE The Bhagavad Gita , the greatest devotional book of Hinduism, has long been recognized  as one of the world™s spiritual classics and a guide to all on the path of Truth. It is sometimes known as the Song of the Lord or the Gospel of the Lord Shri Krishna.  According to Western scholarship, it was composed later than the Vedas and the   Upanishads Œ probably between the fifth and second centuries before Christ. It is a  fragment, part of the sixth book of the epic poem The Mahabaratha.     The Mahabaratha tells of the Pandavas, Prince Arjuna and his four brothers, growing up  in north India at the court of their uncle, the blind King Dhritarashtra, after the death of  their father, the previous ruler. There is always great rivalry between the Pandavas or sons  of Pandu and the Kauravas, the one hundred sons of Dhritarashtra. Eventually the old  king gives his nephews some land of their own but his eldest son, Duryodhana, defeats   Yudhisthira, the eldest Pandava, by cheating at dice, and forces him and his brothers to  surrender their land and go into exile for thirteen years. On their return, the old king is  unable to persuade his son Duryodhana to restore their heritage and, in spite of efforts at  reconciliation by Sanjaya, Dhritarashtra™s charioteer; by Bheeshma, his wise counsellor;   and even by the Lord Krishna himself, war cannot be averted. The rival hosts face each other on the field of Kurukshetra. It is at this point that The Bhagavad Gita  begins.     When Prince Arjuna surveys the battlefield, he is overwhelmed with sorrow at the  futility of war. The teachings of  The Bhagavad Gita  are spoken by the divine Lord Krishna,  who is acting as the prince™s charioteer. They are overheard by Sanjaya and reported back  to King Dhritarashtra. When Krishna has finished speaking to Arjuna, the two armies engage. The battle lasts eighteen days and by the end of it nearly all of the warriors on  both sides are dead save Krishna and the five sons of Pandu.  '"
      ]
     },
     "execution_count": 5,
     "metadata": {},
     "output_type": "execute_result"
    }
   ],
   "source": [
    "data['text'][3]"
   ]
  },
  {
   "cell_type": "markdown",
   "metadata": {},
   "source": [
    "4) Process the Text"
   ]
  },
  {
   "cell_type": "code",
   "execution_count": 6,
   "metadata": {},
   "outputs": [
    {
     "data": {
      "text/plain": [
       "109133"
      ]
     },
     "execution_count": 6,
     "metadata": {},
     "output_type": "execute_result"
    }
   ],
   "source": [
    "#all pages as string\n",
    "TEXT=\"\"\n",
    "for i,nrows in data.iterrows():\n",
    "    TEXT += (nrows['text'])\n",
    "# swap out special characters for spaces\n",
    "TEXT = re.sub(r\"[^a-zA-Z0-9]+\", ' ', TEXT)\n",
    "# swap out numbers for spaces\n",
    "TEXT = re.sub(r\"\\d\",\" \", TEXT)\n",
    "# number of words\n",
    "len(TEXT)"
   ]
  },
  {
   "cell_type": "code",
   "execution_count": 7,
   "metadata": {},
   "outputs": [
    {
     "data": {
      "text/plain": [
       "2899"
      ]
     },
     "execution_count": 7,
     "metadata": {},
     "output_type": "execute_result"
    }
   ],
   "source": [
    "# tokenize the text string\n",
    "tokens = nltk.word_tokenize(TEXT.lower())\n",
    "# determine the vocabulary\n",
    "vocab = set(tokens)\n",
    "vocab = sorted(vocab)\n",
    "vocab_size = len(vocab)\n",
    "vocab_size"
   ]
  },
  {
   "cell_type": "code",
   "execution_count": 8,
   "metadata": {},
   "outputs": [
    {
     "data": {
      "text/plain": [
       "[('the', 1597), ('and', 744), ('of', 744), ('is', 430), ('in', 384)]"
      ]
     },
     "execution_count": 8,
     "metadata": {},
     "output_type": "execute_result"
    }
   ],
   "source": [
    "#get frequency distribution\n",
    "fdist = nltk.FreqDist(tokens)\n",
    "fdist.most_common(5)"
   ]
  },
  {
   "cell_type": "code",
   "execution_count": 9,
   "metadata": {},
   "outputs": [
    {
     "name": "stdout",
     "output_type": "stream",
     "text": [
      "['shri', 'purohit', 'bhagavad', 'gita', 'dnyana', 'mahabaratha', 'pandavas', 'dhritarashtra', 'pandu', 'duryodhana', 'sanjaya', 'bheeshma', 'kurukshetra', 'drona', 'drupada', 'bheema', 'virata', 'soubhadra', 'droupadi', 'karna', 'kuru', 'conches', 'kunti', 'unmanifest', 'thinkest', 'centered', 'viwaswana', 'manu', 'knowest', 'apana', 'om', 'narada', 'vyasa', 'fillest']\n"
     ]
    }
   ],
   "source": [
    "# Find Special words to add to dictionary\n",
    "special = []\n",
    "for k in fdist:\n",
    "    # check if not in standard English Dictionary\n",
    "    if k not in C:\n",
    "        # check if not a one-off typo nor single character\n",
    "        if fdist[k] != 1 and len(k) != 1:\n",
    "            special.append(k)       \n",
    "print(special)"
   ]
  },
  {
   "cell_type": "code",
   "execution_count": 10,
   "metadata": {},
   "outputs": [
    {
     "data": {
      "text/html": [
       "<div>\n",
       "<style scoped>\n",
       "    .dataframe tbody tr th:only-of-type {\n",
       "        vertical-align: middle;\n",
       "    }\n",
       "\n",
       "    .dataframe tbody tr th {\n",
       "        vertical-align: top;\n",
       "    }\n",
       "\n",
       "    .dataframe thead th {\n",
       "        text-align: right;\n",
       "    }\n",
       "</style>\n",
       "<table border=\"1\" class=\"dataframe\">\n",
       "  <thead>\n",
       "    <tr style=\"text-align: right;\">\n",
       "      <th></th>\n",
       "      <th>word</th>\n",
       "      <th>freq</th>\n",
       "      <th>dict</th>\n",
       "    </tr>\n",
       "  </thead>\n",
       "  <tbody>\n",
       "    <tr>\n",
       "      <th>29</th>\n",
       "      <td>air</td>\n",
       "      <td>3</td>\n",
       "      <td>160850401</td>\n",
       "    </tr>\n",
       "    <tr>\n",
       "      <th>891</th>\n",
       "      <td>procreate</td>\n",
       "      <td>2</td>\n",
       "      <td>104450</td>\n",
       "    </tr>\n",
       "    <tr>\n",
       "      <th>129</th>\n",
       "      <td>blind</td>\n",
       "      <td>3</td>\n",
       "      <td>16485480</td>\n",
       "    </tr>\n",
       "    <tr>\n",
       "      <th>134</th>\n",
       "      <td>body</td>\n",
       "      <td>26</td>\n",
       "      <td>136560842</td>\n",
       "    </tr>\n",
       "    <tr>\n",
       "      <th>3</th>\n",
       "      <td>abnegation</td>\n",
       "      <td>3</td>\n",
       "      <td>26265</td>\n",
       "    </tr>\n",
       "  </tbody>\n",
       "</table>\n",
       "</div>"
      ],
      "text/plain": [
       "           word  freq       dict\n",
       "29          air     3  160850401\n",
       "891   procreate     2     104450\n",
       "129       blind     3   16485480\n",
       "134        body    26  136560842\n",
       "3    abnegation     3      26265"
      ]
     },
     "execution_count": 10,
     "metadata": {},
     "output_type": "execute_result"
    }
   ],
   "source": [
    "# Build Frequency dataframe\n",
    "w_list = []\n",
    "f_list = []\n",
    "d_list = []\n",
    "for word in vocab:\n",
    "    if fdist[word] != 1 and len(word) != 1:\n",
    "        w_list.append(word)\n",
    "        f_list.append(fdist[word])\n",
    "        d_list.append(C[word])\n",
    "    \n",
    "df_words = pd.DataFrame({'word':w_list,'freq':f_list,'dict':d_list})\n",
    "df_words.sample(5)"
   ]
  },
  {
   "cell_type": "code",
   "execution_count": 11,
   "metadata": {},
   "outputs": [
    {
     "data": {
      "text/plain": [
       "14487070.232936757"
      ]
     },
     "execution_count": 11,
     "metadata": {},
     "output_type": "execute_result"
    }
   ],
   "source": [
    "# frequency scale factor\n",
    "scale = C['the']/fdist['the']\n",
    "scale"
   ]
  },
  {
   "cell_type": "markdown",
   "metadata": {},
   "source": [
    "5) Update the Dictionary and Save"
   ]
  },
  {
   "cell_type": "code",
   "execution_count": 12,
   "metadata": {},
   "outputs": [
    {
     "data": {
      "text/plain": [
       "43461210"
      ]
     },
     "execution_count": 12,
     "metadata": {},
     "output_type": "execute_result"
    }
   ],
   "source": [
    "#loop through the corpus to update dictionary counts\n",
    "for i,nrows in df_words.iterrows():\n",
    "    # update dictionary frequency if word present\n",
    "    if nrows['dict'] != 0:\n",
    "        C[nrows['word']] = int(scale* nrows['freq'])\n",
    "    # attempt to add special word to dictionary\n",
    "    else:\n",
    "        try:\n",
    "            C[nrows['word']] = int(scale* fdist[nrows['word']])\n",
    "        except:\n",
    "            pass\n",
    "\n",
    "C['drupada']"
   ]
  },
  {
   "cell_type": "code",
   "execution_count": 13,
   "metadata": {},
   "outputs": [],
   "source": [
    "#Sort Counter for Output\n",
    "Cout = sorted(C.items(), key=lambda pair: pair[1], reverse=True)"
   ]
  },
  {
   "cell_type": "code",
   "execution_count": 14,
   "metadata": {},
   "outputs": [],
   "source": [
    "with open(\"custom_dict_bg.txt\", encoding='utf-8', mode='w') as fp: \n",
    "    for tag, count in Cout:  \n",
    "        fp.write('{} {}\\n'.format(tag, count))  "
   ]
  },
  {
   "cell_type": "markdown",
   "metadata": {},
   "source": [
    "6) Proceed to symspell worksheet in separate notebook."
   ]
  },
  {
   "cell_type": "code",
   "execution_count": null,
   "metadata": {},
   "outputs": [],
   "source": []
  }
 ],
 "metadata": {
  "kernelspec": {
   "display_name": "Python 3",
   "language": "python",
   "name": "python3"
  },
  "language_info": {
   "codemirror_mode": {
    "name": "ipython",
    "version": 3
   },
   "file_extension": ".py",
   "mimetype": "text/x-python",
   "name": "python",
   "nbconvert_exporter": "python",
   "pygments_lexer": "ipython3",
   "version": "3.6.7"
  }
 },
 "nbformat": 4,
 "nbformat_minor": 2
}
